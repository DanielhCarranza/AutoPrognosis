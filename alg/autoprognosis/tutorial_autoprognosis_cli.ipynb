{
 "cells": [
  {
   "cell_type": "markdown",
   "metadata": {},
   "source": [
    "# Tutorial Autoprognosis\n",
    "\n",
    "## Automated Clinical Prognostic Modeling \n",
    "\n",
    "This tutorial shows how to use [Autoprognosis](https://arxiv.org/abs/1802.07207). We are using the UCI ML Breast Cancer Wisconsin (Diagnostic) dataset.\n",
    "\n",
    "See [installation instructions](../../doc/install.md) to install the dependencies.\n",
    "\n",
    "Load dataset and show the first five samples:"
   ]
  },
  {
   "cell_type": "code",
   "execution_count": null,
   "metadata": {},
   "outputs": [],
   "source": [
    "from sklearn.datasets import load_breast_cancer\n",
    "import pandas as pd\n",
    "data = load_breast_cancer()  # get Breast Cancer Dataset\n",
    "\n",
    "df = pd.DataFrame(data.data, columns=data.feature_names) # create pandas dataframe\n",
    "target = 'target'\n",
    "df[target] = data.target\n",
    "\n",
    "fn_csv = 'data.csv'\n",
    "df.to_csv(fn_csv, index=False)  # save data as Comma Separated Values (CSV) to file \"data.csv\"\n",
    "\n",
    "df.head()"
   ]
  },
  {
   "cell_type": "markdown",
   "metadata": {},
   "source": [
    "Run autoprognosis for a number of iterations"
   ]
  },
  {
   "cell_type": "code",
   "execution_count": null,
   "metadata": {},
   "outputs": [],
   "source": [
    "python_exe = 'python3' # on some platforms the name of the python3.6 executable is python or python3.6\n",
    "odir = \".\"   # output directory\n",
    "verboselevel = 0  \n",
    "niter = 3  # number of interations\n",
    "nstage = 1 # number of components in the pipeline: 1:classifiers, 2:feature processing + classifier: 3:imputation + ...\n",
    "!python3 autoprognosis.py -i {fn_csv} -o {odir} --target {target} --verbose {verboselevel} --nstage 1 --it  {niter}"
   ]
  },
  {
   "cell_type": "markdown",
   "metadata": {},
   "source": [
    "Display results"
   ]
  },
  {
   "cell_type": "code",
   "execution_count": null,
   "metadata": {},
   "outputs": [],
   "source": [
    "!{python_exe} autoprognosis_report.py -i {odir}"
   ]
  },
  {
   "cell_type": "code",
   "execution_count": null,
   "metadata": {},
   "outputs": [],
   "source": []
  }
 ],
 "metadata": {
  "kernelspec": {
   "display_name": "Python 3",
   "language": "python",
   "name": "python3"
  },
  "language_info": {
   "codemirror_mode": {
    "name": "ipython",
    "version": 3
   },
   "file_extension": ".py",
   "mimetype": "text/x-python",
   "name": "python",
   "nbconvert_exporter": "python",
   "pygments_lexer": "ipython3",
   "version": "3.6.8"
  }
 },
 "nbformat": 4,
 "nbformat_minor": 2
}
